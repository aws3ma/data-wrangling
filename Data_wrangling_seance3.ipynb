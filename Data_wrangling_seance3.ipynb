{
  "nbformat": 4,
  "nbformat_minor": 0,
  "metadata": {
    "colab": {
      "provenance": [],
      "collapsed_sections": [],
      "include_colab_link": true
    },
    "kernelspec": {
      "name": "python3",
      "display_name": "Python 3"
    },
    "language_info": {
      "name": "python"
    }
  },
  "cells": [
    {
      "cell_type": "markdown",
      "metadata": {
        "id": "view-in-github",
        "colab_type": "text"
      },
      "source": [
        "<a href=\"https://colab.research.google.com/github/aws3ma/data-wrangling/blob/main/Data_wrangling_seance3.ipynb\" target=\"_parent\"><img src=\"https://colab.research.google.com/assets/colab-badge.svg\" alt=\"Open In Colab\"/></a>"
      ]
    },
    {
      "cell_type": "markdown",
      "source": [
        "1) importation de la bibliothèque pandas"
      ],
      "metadata": {
        "id": "B3UmaC4ONOH5"
      }
    },
    {
      "cell_type": "code",
      "execution_count": 1,
      "metadata": {
        "id": "eKF-btOKMqLp",
        "colab": {
          "base_uri": "https://localhost:8080/"
        },
        "outputId": "99b8e8fa-2ee1-475e-be60-15b9b9d224f1"
      },
      "outputs": [
        {
          "output_type": "stream",
          "name": "stdout",
          "text": [
            "Mounted at /content/drive\n"
          ]
        }
      ],
      "source": [
        "import pandas as pd\n",
        "from google.colab import drive\n",
        "drive.mount('/content/drive',force_remount=True)\n",
        "dw_folder='/content/drive/MyDrive/DataWrangling/'"
      ]
    },
    {
      "cell_type": "markdown",
      "source": [
        "2) Charger le fichier \"country.csv\" et afficher le dataframe "
      ],
      "metadata": {
        "id": "2Tcsb04CNYeV"
      }
    },
    {
      "cell_type": "code",
      "source": [
        "df = pd.read_csv(dw_folder+\"/country.csv\")"
      ],
      "metadata": {
        "id": "On2aSgq3Nr2a"
      },
      "execution_count": 2,
      "outputs": []
    },
    {
      "cell_type": "markdown",
      "source": [
        "3) Vérifier l'existence de valeurs nulls dans le dataframe"
      ],
      "metadata": {
        "id": "D-cvdlSXNwGD"
      }
    },
    {
      "cell_type": "code",
      "source": [
        "df.isna().sum()"
      ],
      "metadata": {
        "id": "9eYKWyh8NzRZ",
        "colab": {
          "base_uri": "https://localhost:8080/"
        },
        "outputId": "6d105e7b-9c48-4c08-abcd-d48790c92235"
      },
      "execution_count": 3,
      "outputs": [
        {
          "output_type": "execute_result",
          "data": {
            "text/plain": [
              "country      0\n",
              "year         0\n",
              "pop          0\n",
              "continent    0\n",
              "lifeExp      0\n",
              "gdpPercap    0\n",
              "dtype: int64"
            ]
          },
          "metadata": {},
          "execution_count": 3
        }
      ]
    },
    {
      "cell_type": "markdown",
      "source": [
        "4)\n",
        "* Renommer les colonnes (pop, lifeExp, gdpPercap) par (Population, Age, PIB)\n",
        "* Afficher le dataframe"
      ],
      "metadata": {
        "id": "xY-73AW4OfS8"
      }
    },
    {
      "cell_type": "code",
      "source": [
        "df.rename(columns={\"pop\":\"Population\",\"lifeExp\":\"Age\",\"gdpPercap\":\"PIB\"},inplace=True)"
      ],
      "metadata": {
        "id": "Y6V69GibPd_H"
      },
      "execution_count": 16,
      "outputs": []
    },
    {
      "cell_type": "markdown",
      "source": [
        "5) Afficher le nombre de pays pour chaque continent"
      ],
      "metadata": {
        "id": "z-OSnO8lQgbq"
      }
    },
    {
      "cell_type": "code",
      "source": [
        "df.groupby(\"continent\").country.nunique()"
      ],
      "metadata": {
        "id": "johNliYMOM4J",
        "colab": {
          "base_uri": "https://localhost:8080/"
        },
        "outputId": "0d1acdbc-023c-4829-f13f-6ed1edd89ebd"
      },
      "execution_count": 17,
      "outputs": [
        {
          "output_type": "execute_result",
          "data": {
            "text/plain": [
              "continent\n",
              "Africa      52\n",
              "Americas    25\n",
              "Asia        33\n",
              "Europe      30\n",
              "Oceania      2\n",
              "Name: country, dtype: int64"
            ]
          },
          "metadata": {},
          "execution_count": 17
        }
      ]
    },
    {
      "cell_type": "markdown",
      "source": [
        "6) Pour chaque contient, vérifier l'existence de valeurs abbérantes pour la variable Age"
      ],
      "metadata": {
        "id": "HVNHwYzgRUX_"
      }
    },
    {
      "cell_type": "code",
      "source": [
        "df.boxplot(column=\"Age\" ,by=\"continent\")"
      ],
      "metadata": {
        "id": "XUJdbylbRTTI",
        "colab": {
          "base_uri": "https://localhost:8080/",
          "height": 373
        },
        "outputId": "a6c1bfcd-db19-4960-9e3a-eee60bc0fb13"
      },
      "execution_count": 21,
      "outputs": [
        {
          "output_type": "stream",
          "name": "stderr",
          "text": [
            "/usr/local/lib/python3.7/dist-packages/matplotlib/cbook/__init__.py:1376: VisibleDeprecationWarning: Creating an ndarray from ragged nested sequences (which is a list-or-tuple of lists-or-tuples-or ndarrays with different lengths or shapes) is deprecated. If you meant to do this, you must specify 'dtype=object' when creating the ndarray.\n",
            "  X = np.atleast_1d(X.T if isinstance(X, np.ndarray) else np.asarray(X))\n"
          ]
        },
        {
          "output_type": "execute_result",
          "data": {
            "text/plain": [
              "<matplotlib.axes._subplots.AxesSubplot at 0x7f69b1462ed0>"
            ]
          },
          "metadata": {},
          "execution_count": 21
        },
        {
          "output_type": "display_data",
          "data": {
            "text/plain": [
              "<Figure size 432x288 with 1 Axes>"
            ],
            "image/png": "[encoded data removed]"
          },
          "metadata": {
            "needs_background": "light"
          }
        }
      ]
    },
    {
      "cell_type": "markdown",
      "source": [
        "7) Pour le contient Africa, afficher le dataframe (df1) contenant les pays dont la variable Age est une valeur abbérante.  "
      ],
      "metadata": {
        "id": "zK8PyppYadBL"
      }
    },
    {
      "cell_type": "code",
      "source": [
        "df1 = df[df.continent=='Africa']\n",
        "def calculs(dataframe):\n",
        "  q1 = dataframe.quantile(q=0.25)\n",
        "  q2 = dataframe.quantile(q=0.5)\n",
        "  q3 = dataframe.quantile(q=0.75)\n",
        "  irq = q3 - q1\n",
        "  lower_limit = q1 - irq * 1.5\n",
        "  upper_limit = q3 + irq * 1.5  \n",
        "  return q1,q2,q3,lower_limit,upper_limit\n",
        "q1,q2,q3,lower_limit,upper_limit = calculs(df1.Age)\n",
        "df1[(df1.Age<= lower_limit) | (df1.Age >=upper_limit)]"
      ],
      "metadata": {
        "id": "8Rw30YySXib6",
        "colab": {
          "base_uri": "https://localhost:8080/",
          "height": 363
        },
        "outputId": "76cb9383-572b-48fc-f0e8-43a7039a815f"
      },
      "execution_count": 31,
      "outputs": [
        {
          "output_type": "execute_result",
          "data": {
            "text/plain": [
              "        country  year  Population continent     Age           PIB\n",
              "910       Libya  2002   5368585.0    Africa  72.737   9534.677467\n",
              "911       Libya  2007   6036914.0    Africa  73.952  12057.499280\n",
              "983   Mauritius  2007   1250882.0    Africa  72.801  10956.991120\n",
              "1268    Reunion  1992    622191.0    Africa  73.615   6101.255823\n",
              "1269    Reunion  1997    684810.0    Africa  74.772   6071.941411\n",
              "1270    Reunion  2002    743981.0    Africa  75.744   6316.165200\n",
              "1271    Reunion  2007    798094.0    Africa  76.442   7670.122558\n",
              "1292     Rwanda  1992   7290203.0    Africa  23.599    737.068595\n",
              "1570    Tunisia  2002   9770575.0    Africa  73.042   5722.895655\n",
              "1571    Tunisia  2007  10276158.0    Africa  73.923   7092.923025"
            ],
            "text/html": [
              "\n",
              "  <div id=\"df-faf9337e-10eb-4819-82d9-baa0185a58ca\">\n",
              "    <div class=\"colab-df-container\">\n",
              "      <div>\n",
              "<style scoped>\n",
              "    .dataframe tbody tr th:only-of-type {\n",
              "        vertical-align: middle;\n",
              "    }\n",
              "\n",
              "    .dataframe tbody tr th {\n",
              "        vertical-align: top;\n",
              "    }\n",
              "\n",
              "    .dataframe thead th {\n",
              "        text-align: right;\n",
              "    }\n",
              "</style>\n",
              "<table border=\"1\" class=\"dataframe\">\n",
              "  <thead>\n",
              "    <tr style=\"text-align: right;\">\n",
              "      <th></th>\n",
              "      <th>country</th>\n",
              "      <th>year</th>\n",
              "      <th>Population</th>\n",
              "      <th>continent</th>\n",
              "      <th>Age</th>\n",
              "      <th>PIB</th>\n",
              "    </tr>\n",
              "  </thead>\n",
              "  <tbody>\n",
              "    <tr>\n",
              "      <th>910</th>\n",
              "      <td>Libya</td>\n",
              "      <td>2002</td>\n",
              "      <td>5368585.0</td>\n",
              "      <td>Africa</td>\n",
              "      <td>72.737</td>\n",
              "      <td>9534.677467</td>\n",
              "    </tr>\n",
              "    <tr>\n",
              "      <th>911</th>\n",
              "      <td>Libya</td>\n",
              "      <td>2007</td>\n",
              "      <td>6036914.0</td>\n",
              "      <td>Africa</td>\n",
              "      <td>73.952</td>\n",
              "      <td>12057.499280</td>\n",
              "    </tr>\n",
              "    <tr>\n",
              "      <th>983</th>\n",
              "      <td>Mauritius</td>\n",
              "      <td>2007</td>\n",
              "      <td>1250882.0</td>\n",
              "      <td>Africa</td>\n",
              "      <td>72.801</td>\n",
              "      <td>10956.991120</td>\n",
              "    </tr>\n",
              "    <tr>\n",
              "      <th>1268</th>\n",
              "      <td>Reunion</td>\n",
              "      <td>1992</td>\n",
              "      <td>622191.0</td>\n",
              "      <td>Africa</td>\n",
              "      <td>73.615</td>\n",
              "      <td>6101.255823</td>\n",
              "    </tr>\n",
              "    <tr>\n",
              "      <th>1269</th>\n",
              "      <td>Reunion</td>\n",
              "      <td>1997</td>\n",
              "      <td>684810.0</td>\n",
              "      <td>Africa</td>\n",
              "      <td>74.772</td>\n",
              "      <td>6071.941411</td>\n",
              "    </tr>\n",
              "    <tr>\n",
              "      <th>1270</th>\n",
              "      <td>Reunion</td>\n",
              "      <td>2002</td>\n",
              "      <td>743981.0</td>\n",
              "      <td>Africa</td>\n",
              "      <td>75.744</td>\n",
              "      <td>6316.165200</td>\n",
              "    </tr>\n",
              "    <tr>\n",
              "      <th>1271</th>\n",
              "      <td>Reunion</td>\n",
              "      <td>2007</td>\n",
              "      <td>798094.0</td>\n",
              "      <td>Africa</td>\n",
              "      <td>76.442</td>\n",
              "      <td>7670.122558</td>\n",
              "    </tr>\n",
              "    <tr>\n",
              "      <th>1292</th>\n",
              "      <td>Rwanda</td>\n",
              "      <td>1992</td>\n",
              "      <td>7290203.0</td>\n",
              "      <td>Africa</td>\n",
              "      <td>23.599</td>\n",
              "      <td>737.068595</td>\n",
              "    </tr>\n",
              "    <tr>\n",
              "      <th>1570</th>\n",
              "      <td>Tunisia</td>\n",
              "      <td>2002</td>\n",
              "      <td>9770575.0</td>\n",
              "      <td>Africa</td>\n",
              "      <td>73.042</td>\n",
              "      <td>5722.895655</td>\n",
              "    </tr>\n",
              "    <tr>\n",
              "      <th>1571</th>\n",
              "      <td>Tunisia</td>\n",
              "      <td>2007</td>\n",
              "      <td>10276158.0</td>\n",
              "      <td>Africa</td>\n",
              "      <td>73.923</td>\n",
              "      <td>7092.923025</td>\n",
              "    </tr>\n",
              "  </tbody>\n",
              "</table>\n",
              "</div>\n",
              "      <button class=\"colab-df-convert\" onclick=\"convertToInteractive('df-faf9337e-10eb-4819-82d9-baa0185a58ca')\"\n",
              "              title=\"Convert this dataframe to an interactive table.\"\n",
              "              style=\"display:none;\">\n",
              "        \n",
              "  <svg xmlns=\"http://www.w3.org/2000/svg\" height=\"24px\"viewBox=\"0 0 24 24\"\n",
              "       width=\"24px\">\n",
              "    <path d=\"M0 0h24v24H0V0z\" fill=\"none\"/>\n",
              "    <path d=\"M18.56 5.44l.94 2.06.94-2.06 2.06-.94-2.06-.94-.94-2.06-.94 2.06-2.06.94zm-11 1L8.5 8.5l.94-2.06 2.06-.94-2.06-.94L8.5 2.5l-.94 2.06-2.06.94zm10 10l.94 2.06.94-2.06 2.06-.94-2.06-.94-.94-2.06-.94 2.06-2.06.94z\"/><path d=\"M17.41 7.96l-1.37-1.37c-.4-.4-.92-.59-1.43-.59-.52 0-1.04.2-1.43.59L10.3 9.45l-7.72 7.72c-.78.78-.78 2.05 0 2.83L4 21.41c.39.39.9.59 1.41.59.51 0 1.02-.2 1.41-.59l7.78-7.78 2.81-2.81c.8-.78.8-2.07 0-2.86zM5.41 20L4 18.59l7.72-7.72 1.47 1.35L5.41 20z\"/>\n",
              "  </svg>\n",
              "      </button>\n",
              "      \n",
              "  <style>\n",
              "    .colab-df-container {\n",
              "      display:flex;\n",
              "      flex-wrap:wrap;\n",
              "      gap: 12px;\n",
              "    }\n",
              "\n",
              "    .colab-df-convert {\n",
              "      background-color: #E8F0FE;\n",
              "      border: none;\n",
              "      border-radius: 50%;\n",
              "      cursor: pointer;\n",
              "      display: none;\n",
              "      fill: #1967D2;\n",
              "      height: 32px;\n",
              "      padding: 0 0 0 0;\n",
              "      width: 32px;\n",
              "    }\n",
              "\n",
              "    .colab-df-convert:hover {\n",
              "      background-color: #E2EBFA;\n",
              "      box-shadow: 0px 1px 2px rgba(60, 64, 67, 0.3), 0px 1px 3px 1px rgba(60, 64, 67, 0.15);\n",
              "      fill: #174EA6;\n",
              "    }\n",
              "\n",
              "    [theme=dark] .colab-df-convert {\n",
              "      background-color: #3B4455;\n",
              "      fill: #D2E3FC;\n",
              "    }\n",
              "\n",
              "    [theme=dark] .colab-df-convert:hover {\n",
              "      background-color: #434B5C;\n",
              "      box-shadow: 0px 1px 3px 1px rgba(0, 0, 0, 0.15);\n",
              "      filter: drop-shadow(0px 1px 2px rgba(0, 0, 0, 0.3));\n",
              "      fill: #FFFFFF;\n",
              "    }\n",
              "  </style>\n",
              "\n",
              "      <script>\n",
              "        const buttonEl =\n",
              "          document.querySelector('#df-faf9337e-10eb-4819-82d9-baa0185a58ca button.colab-df-convert');\n",
              "        buttonEl.style.display =\n",
              "          google.colab.kernel.accessAllowed ? 'block' : 'none';\n",
              "\n",
              "        async function convertToInteractive(key) {\n",
              "          const element = document.querySelector('#df-faf9337e-10eb-4819-82d9-baa0185a58ca');\n",
              "          const dataTable =\n",
              "            await google.colab.kernel.invokeFunction('convertToInteractive',\n",
              "                                                     [key], {});\n",
              "          if (!dataTable) return;\n",
              "\n",
              "          const docLinkHtml = 'Like what you see? Visit the ' +\n",
              "            '<a target=\"_blank\" href=https://colab.research.google.com/notebooks/data_table.ipynb>data table notebook</a>'\n",
              "            + ' to learn more about interactive tables.';\n",
              "          element.innerHTML = '';\n",
              "          dataTable['output_type'] = 'display_data';\n",
              "          await google.colab.output.renderOutput(dataTable, element);\n",
              "          const docLink = document.createElement('div');\n",
              "          docLink.innerHTML = docLinkHtml;\n",
              "          element.appendChild(docLink);\n",
              "        }\n",
              "      </script>\n",
              "    </div>\n",
              "  </div>\n",
              "  "
            ]
          },
          "metadata": {},
          "execution_count": 31
        }
      ]
    },
    {
      "cell_type": "markdown",
      "source": [
        "8) Pour l'année 2007, vérifier pour chaque continent l'existence de valeurs abbérantes pour la variable PIB."
      ],
      "metadata": {
        "id": "M3oTQBFIeu0O"
      }
    },
    {
      "cell_type": "code",
      "source": [
        "df.head()"
      ],
      "metadata": {
        "colab": {
          "base_uri": "https://localhost:8080/",
          "height": 206
        },
        "id": "jSLFkiy2vZAS",
        "outputId": "7c1fef71-7561-489f-cb55-fd014b7fcb2b"
      },
      "execution_count": 32,
      "outputs": [
        {
          "output_type": "execute_result",
          "data": {
            "text/plain": [
              "       country  year  Population continent     Age         PIB\n",
              "0  Afghanistan  1952   8425333.0      Asia  28.801  779.445314\n",
              "1  Afghanistan  1957   9240934.0      Asia  30.332  820.853030\n",
              "2  Afghanistan  1962  10267083.0      Asia  31.997  853.100710\n",
              "3  Afghanistan  1967  11537966.0      Asia  34.020  836.197138\n",
              "4  Afghanistan  1972  13079460.0      Asia  36.088  739.981106"
            ],
            "text/html": [
              "\n",
              "  <div id=\"df-4d486bcf-1cbf-4ec6-8290-ed6870a1a768\">\n",
              "    <div class=\"colab-df-container\">\n",
              "      <div>\n",
              "<style scoped>\n",
              "    .dataframe tbody tr th:only-of-type {\n",
              "        vertical-align: middle;\n",
              "    }\n",
              "\n",
              "    .dataframe tbody tr th {\n",
              "        vertical-align: top;\n",
              "    }\n",
              "\n",
              "    .dataframe thead th {\n",
              "        text-align: right;\n",
              "    }\n",
              "</style>\n",
              "<table border=\"1\" class=\"dataframe\">\n",
              "  <thead>\n",
              "    <tr style=\"text-align: right;\">\n",
              "      <th></th>\n",
              "      <th>country</th>\n",
              "      <th>year</th>\n",
              "      <th>Population</th>\n",
              "      <th>continent</th>\n",
              "      <th>Age</th>\n",
              "      <th>PIB</th>\n",
              "    </tr>\n",
              "  </thead>\n",
              "  <tbody>\n",
              "    <tr>\n",
              "      <th>0</th>\n",
              "      <td>Afghanistan</td>\n",
              "      <td>1952</td>\n",
              "      <td>8425333.0</td>\n",
              "      <td>Asia</td>\n",
              "      <td>28.801</td>\n",
              "      <td>779.445314</td>\n",
              "    </tr>\n",
              "    <tr>\n",
              "      <th>1</th>\n",
              "      <td>Afghanistan</td>\n",
              "      <td>1957</td>\n",
              "      <td>9240934.0</td>\n",
              "      <td>Asia</td>\n",
              "      <td>30.332</td>\n",
              "      <td>820.853030</td>\n",
              "    </tr>\n",
              "    <tr>\n",
              "      <th>2</th>\n",
              "      <td>Afghanistan</td>\n",
              "      <td>1962</td>\n",
              "      <td>10267083.0</td>\n",
              "      <td>Asia</td>\n",
              "      <td>31.997</td>\n",
              "      <td>853.100710</td>\n",
              "    </tr>\n",
              "    <tr>\n",
              "      <th>3</th>\n",
              "      <td>Afghanistan</td>\n",
              "      <td>1967</td>\n",
              "      <td>11537966.0</td>\n",
              "      <td>Asia</td>\n",
              "      <td>34.020</td>\n",
              "      <td>836.197138</td>\n",
              "    </tr>\n",
              "    <tr>\n",
              "      <th>4</th>\n",
              "      <td>Afghanistan</td>\n",
              "      <td>1972</td>\n",
              "      <td>13079460.0</td>\n",
              "      <td>Asia</td>\n",
              "      <td>36.088</td>\n",
              "      <td>739.981106</td>\n",
              "    </tr>\n",
              "  </tbody>\n",
              "</table>\n",
              "</div>\n",
              "      <button class=\"colab-df-convert\" onclick=\"convertToInteractive('df-4d486bcf-1cbf-4ec6-8290-ed6870a1a768')\"\n",
              "              title=\"Convert this dataframe to an interactive table.\"\n",
              "              style=\"display:none;\">\n",
              "        \n",
              "  <svg xmlns=\"http://www.w3.org/2000/svg\" height=\"24px\"viewBox=\"0 0 24 24\"\n",
              "       width=\"24px\">\n",
              "    <path d=\"M0 0h24v24H0V0z\" fill=\"none\"/>\n",
              "    <path d=\"M18.56 5.44l.94 2.06.94-2.06 2.06-.94-2.06-.94-.94-2.06-.94 2.06-2.06.94zm-11 1L8.5 8.5l.94-2.06 2.06-.94-2.06-.94L8.5 2.5l-.94 2.06-2.06.94zm10 10l.94 2.06.94-2.06 2.06-.94-2.06-.94-.94-2.06-.94 2.06-2.06.94z\"/><path d=\"M17.41 7.96l-1.37-1.37c-.4-.4-.92-.59-1.43-.59-.52 0-1.04.2-1.43.59L10.3 9.45l-7.72 7.72c-.78.78-.78 2.05 0 2.83L4 21.41c.39.39.9.59 1.41.59.51 0 1.02-.2 1.41-.59l7.78-7.78 2.81-2.81c.8-.78.8-2.07 0-2.86zM5.41 20L4 18.59l7.72-7.72 1.47 1.35L5.41 20z\"/>\n",
              "  </svg>\n",
              "      </button>\n",
              "      \n",
              "  <style>\n",
              "    .colab-df-container {\n",
              "      display:flex;\n",
              "      flex-wrap:wrap;\n",
              "      gap: 12px;\n",
              "    }\n",
              "\n",
              "    .colab-df-convert {\n",
              "      background-color: #E8F0FE;\n",
              "      border: none;\n",
              "      border-radius: 50%;\n",
              "      cursor: pointer;\n",
              "      display: none;\n",
              "      fill: #1967D2;\n",
              "      height: 32px;\n",
              "      padding: 0 0 0 0;\n",
              "      width: 32px;\n",
              "    }\n",
              "\n",
              "    .colab-df-convert:hover {\n",
              "      background-color: #E2EBFA;\n",
              "      box-shadow: 0px 1px 2px rgba(60, 64, 67, 0.3), 0px 1px 3px 1px rgba(60, 64, 67, 0.15);\n",
              "      fill: #174EA6;\n",
              "    }\n",
              "\n",
              "    [theme=dark] .colab-df-convert {\n",
              "      background-color: #3B4455;\n",
              "      fill: #D2E3FC;\n",
              "    }\n",
              "\n",
              "    [theme=dark] .colab-df-convert:hover {\n",
              "      background-color: #434B5C;\n",
              "      box-shadow: 0px 1px 3px 1px rgba(0, 0, 0, 0.15);\n",
              "      filter: drop-shadow(0px 1px 2px rgba(0, 0, 0, 0.3));\n",
              "      fill: #FFFFFF;\n",
              "    }\n",
              "  </style>\n",
              "\n",
              "      <script>\n",
              "        const buttonEl =\n",
              "          document.querySelector('#df-4d486bcf-1cbf-4ec6-8290-ed6870a1a768 button.colab-df-convert');\n",
              "        buttonEl.style.display =\n",
              "          google.colab.kernel.accessAllowed ? 'block' : 'none';\n",
              "\n",
              "        async function convertToInteractive(key) {\n",
              "          const element = document.querySelector('#df-4d486bcf-1cbf-4ec6-8290-ed6870a1a768');\n",
              "          const dataTable =\n",
              "            await google.colab.kernel.invokeFunction('convertToInteractive',\n",
              "                                                     [key], {});\n",
              "          if (!dataTable) return;\n",
              "\n",
              "          const docLinkHtml = 'Like what you see? Visit the ' +\n",
              "            '<a target=\"_blank\" href=https://colab.research.google.com/notebooks/data_table.ipynb>data table notebook</a>'\n",
              "            + ' to learn more about interactive tables.';\n",
              "          element.innerHTML = '';\n",
              "          dataTable['output_type'] = 'display_data';\n",
              "          await google.colab.output.renderOutput(dataTable, element);\n",
              "          const docLink = document.createElement('div');\n",
              "          docLink.innerHTML = docLinkHtml;\n",
              "          element.appendChild(docLink);\n",
              "        }\n",
              "      </script>\n",
              "    </div>\n",
              "  </div>\n",
              "  "
            ]
          },
          "metadata": {},
          "execution_count": 32
        }
      ]
    },
    {
      "cell_type": "code",
      "source": [
        "# df2 = df[df.year==2007]\n",
        "\n",
        "df[df.year==2007].boxplot(column=\"PIB\",by=\"continent\")"
      ],
      "metadata": {
        "id": "kRQdDAaYe0Pb",
        "colab": {
          "base_uri": "https://localhost:8080/",
          "height": 373
        },
        "outputId": "6e61ba3f-810d-4676-a171-93a4c1b70eb2"
      },
      "execution_count": 35,
      "outputs": [
        {
          "output_type": "stream",
          "name": "stderr",
          "text": [
            "/usr/local/lib/python3.7/dist-packages/matplotlib/cbook/__init__.py:1376: VisibleDeprecationWarning: Creating an ndarray from ragged nested sequences (which is a list-or-tuple of lists-or-tuples-or ndarrays with different lengths or shapes) is deprecated. If you meant to do this, you must specify 'dtype=object' when creating the ndarray.\n",
            "  X = np.atleast_1d(X.T if isinstance(X, np.ndarray) else np.asarray(X))\n"
          ]
        },
        {
          "output_type": "execute_result",
          "data": {
            "text/plain": [
              "<matplotlib.axes._subplots.AxesSubplot at 0x7f69ae9cf310>"
            ]
          },
          "metadata": {},
          "execution_count": 35
        },
        {
          "output_type": "display_data",
          "data": {
            "text/plain": [
              "<Figure size 432x288 with 1 Axes>"
            ],
            "image/png": "[encoded data removed]"
          },
          "metadata": {
            "needs_background": "light"
          }
        }
      ]
    },
    {
      "cell_type": "markdown",
      "source": [
        "9) Afficher dans une nouvelle dataframe (df2), les pays du continent Africa ayant la variable PIB comme valeur abbérante en 2007"
      ],
      "metadata": {
        "id": "mo3jowa4gCw5"
      }
    },
    {
      "cell_type": "code",
      "source": [
        "df2=df[(df.year==2007) & (df.continent=='Africa')]\n",
        "q1,q2,q3,lower_limit,upper_limit=calculs(df2.PIB)\n",
        "df2[(df1.PIB<= lower_limit) | (df1.PIB >=upper_limit)]"
      ],
      "metadata": {
        "id": "XqmoTK8hgPig",
        "colab": {
          "base_uri": "https://localhost:8080/",
          "height": 272
        },
        "outputId": "1912b803-91e6-4d9e-895e-01eb4392d699"
      },
      "execution_count": 38,
      "outputs": [
        {
          "output_type": "stream",
          "name": "stderr",
          "text": [
            "/usr/local/lib/python3.7/dist-packages/ipykernel_launcher.py:3: UserWarning: Boolean Series key will be reindexed to match DataFrame index.\n",
            "  This is separate from the ipykernel package so we can avoid doing imports until\n"
          ]
        },
        {
          "output_type": "execute_result",
          "data": {
            "text/plain": [
              "                country  year  Population continent     Age           PIB\n",
              "167            Botswana  2007   1639131.0    Africa  50.728  12569.851770\n",
              "491   Equatorial Guinea  2007    551201.0    Africa  51.579  12154.089750\n",
              "551               Gabon  2007   1454867.0    Africa  56.735  13206.484520\n",
              "911               Libya  2007   6036914.0    Africa  73.952  12057.499280\n",
              "983           Mauritius  2007   1250882.0    Africa  72.801  10956.991120\n",
              "1415       South Africa  2007  43997828.0    Africa  49.339   9269.657808"
            ],
            "text/html": [
              "\n",
              "  <div id=\"df-e8a56de4-893d-4a7b-a383-b13efd49a9fd\">\n",
              "    <div class=\"colab-df-container\">\n",
              "      <div>\n",
              "<style scoped>\n",
              "    .dataframe tbody tr th:only-of-type {\n",
              "        vertical-align: middle;\n",
              "    }\n",
              "\n",
              "    .dataframe tbody tr th {\n",
              "        vertical-align: top;\n",
              "    }\n",
              "\n",
              "    .dataframe thead th {\n",
              "        text-align: right;\n",
              "    }\n",
              "</style>\n",
              "<table border=\"1\" class=\"dataframe\">\n",
              "  <thead>\n",
              "    <tr style=\"text-align: right;\">\n",
              "      <th></th>\n",
              "      <th>country</th>\n",
              "      <th>year</th>\n",
              "      <th>Population</th>\n",
              "      <th>continent</th>\n",
              "      <th>Age</th>\n",
              "      <th>PIB</th>\n",
              "    </tr>\n",
              "  </thead>\n",
              "  <tbody>\n",
              "    <tr>\n",
              "      <th>167</th>\n",
              "      <td>Botswana</td>\n",
              "      <td>2007</td>\n",
              "      <td>1639131.0</td>\n",
              "      <td>Africa</td>\n",
              "      <td>50.728</td>\n",
              "      <td>12569.851770</td>\n",
              "    </tr>\n",
              "    <tr>\n",
              "      <th>491</th>\n",
              "      <td>Equatorial Guinea</td>\n",
              "      <td>2007</td>\n",
              "      <td>551201.0</td>\n",
              "      <td>Africa</td>\n",
              "      <td>51.579</td>\n",
              "      <td>12154.089750</td>\n",
              "    </tr>\n",
              "    <tr>\n",
              "      <th>551</th>\n",
              "      <td>Gabon</td>\n",
              "      <td>2007</td>\n",
              "      <td>1454867.0</td>\n",
              "      <td>Africa</td>\n",
              "      <td>56.735</td>\n",
              "      <td>13206.484520</td>\n",
              "    </tr>\n",
              "    <tr>\n",
              "      <th>911</th>\n",
              "      <td>Libya</td>\n",
              "      <td>2007</td>\n",
              "      <td>6036914.0</td>\n",
              "      <td>Africa</td>\n",
              "      <td>73.952</td>\n",
              "      <td>12057.499280</td>\n",
              "    </tr>\n",
              "    <tr>\n",
              "      <th>983</th>\n",
              "      <td>Mauritius</td>\n",
              "      <td>2007</td>\n",
              "      <td>1250882.0</td>\n",
              "      <td>Africa</td>\n",
              "      <td>72.801</td>\n",
              "      <td>10956.991120</td>\n",
              "    </tr>\n",
              "    <tr>\n",
              "      <th>1415</th>\n",
              "      <td>South Africa</td>\n",
              "      <td>2007</td>\n",
              "      <td>43997828.0</td>\n",
              "      <td>Africa</td>\n",
              "      <td>49.339</td>\n",
              "      <td>9269.657808</td>\n",
              "    </tr>\n",
              "  </tbody>\n",
              "</table>\n",
              "</div>\n",
              "      <button class=\"colab-df-convert\" onclick=\"convertToInteractive('df-e8a56de4-893d-4a7b-a383-b13efd49a9fd')\"\n",
              "              title=\"Convert this dataframe to an interactive table.\"\n",
              "              style=\"display:none;\">\n",
              "        \n",
              "  <svg xmlns=\"http://www.w3.org/2000/svg\" height=\"24px\"viewBox=\"0 0 24 24\"\n",
              "       width=\"24px\">\n",
              "    <path d=\"M0 0h24v24H0V0z\" fill=\"none\"/>\n",
              "    <path d=\"M18.56 5.44l.94 2.06.94-2.06 2.06-.94-2.06-.94-.94-2.06-.94 2.06-2.06.94zm-11 1L8.5 8.5l.94-2.06 2.06-.94-2.06-.94L8.5 2.5l-.94 2.06-2.06.94zm10 10l.94 2.06.94-2.06 2.06-.94-2.06-.94-.94-2.06-.94 2.06-2.06.94z\"/><path d=\"M17.41 7.96l-1.37-1.37c-.4-.4-.92-.59-1.43-.59-.52 0-1.04.2-1.43.59L10.3 9.45l-7.72 7.72c-.78.78-.78 2.05 0 2.83L4 21.41c.39.39.9.59 1.41.59.51 0 1.02-.2 1.41-.59l7.78-7.78 2.81-2.81c.8-.78.8-2.07 0-2.86zM5.41 20L4 18.59l7.72-7.72 1.47 1.35L5.41 20z\"/>\n",
              "  </svg>\n",
              "      </button>\n",
              "      \n",
              "  <style>\n",
              "    .colab-df-container {\n",
              "      display:flex;\n",
              "      flex-wrap:wrap;\n",
              "      gap: 12px;\n",
              "    }\n",
              "\n",
              "    .colab-df-convert {\n",
              "      background-color: #E8F0FE;\n",
              "      border: none;\n",
              "      border-radius: 50%;\n",
              "      cursor: pointer;\n",
              "      display: none;\n",
              "      fill: #1967D2;\n",
              "      height: 32px;\n",
              "      padding: 0 0 0 0;\n",
              "      width: 32px;\n",
              "    }\n",
              "\n",
              "    .colab-df-convert:hover {\n",
              "      background-color: #E2EBFA;\n",
              "      box-shadow: 0px 1px 2px rgba(60, 64, 67, 0.3), 0px 1px 3px 1px rgba(60, 64, 67, 0.15);\n",
              "      fill: #174EA6;\n",
              "    }\n",
              "\n",
              "    [theme=dark] .colab-df-convert {\n",
              "      background-color: #3B4455;\n",
              "      fill: #D2E3FC;\n",
              "    }\n",
              "\n",
              "    [theme=dark] .colab-df-convert:hover {\n",
              "      background-color: #434B5C;\n",
              "      box-shadow: 0px 1px 3px 1px rgba(0, 0, 0, 0.15);\n",
              "      filter: drop-shadow(0px 1px 2px rgba(0, 0, 0, 0.3));\n",
              "      fill: #FFFFFF;\n",
              "    }\n",
              "  </style>\n",
              "\n",
              "      <script>\n",
              "        const buttonEl =\n",
              "          document.querySelector('#df-e8a56de4-893d-4a7b-a383-b13efd49a9fd button.colab-df-convert');\n",
              "        buttonEl.style.display =\n",
              "          google.colab.kernel.accessAllowed ? 'block' : 'none';\n",
              "\n",
              "        async function convertToInteractive(key) {\n",
              "          const element = document.querySelector('#df-e8a56de4-893d-4a7b-a383-b13efd49a9fd');\n",
              "          const dataTable =\n",
              "            await google.colab.kernel.invokeFunction('convertToInteractive',\n",
              "                                                     [key], {});\n",
              "          if (!dataTable) return;\n",
              "\n",
              "          const docLinkHtml = 'Like what you see? Visit the ' +\n",
              "            '<a target=\"_blank\" href=https://colab.research.google.com/notebooks/data_table.ipynb>data table notebook</a>'\n",
              "            + ' to learn more about interactive tables.';\n",
              "          element.innerHTML = '';\n",
              "          dataTable['output_type'] = 'display_data';\n",
              "          await google.colab.output.renderOutput(dataTable, element);\n",
              "          const docLink = document.createElement('div');\n",
              "          docLink.innerHTML = docLinkHtml;\n",
              "          element.appendChild(docLink);\n",
              "        }\n",
              "      </script>\n",
              "    </div>\n",
              "  </div>\n",
              "  "
            ]
          },
          "metadata": {},
          "execution_count": 38
        }
      ]
    },
    {
      "cell_type": "markdown",
      "source": [
        "10) \n",
        "* Dans une nouvelle DataFrame, garder seulement les colonnes ('continent', 'year', 'Population') et les années 1952 et 2007\n",
        "* Afficher la population totale de chaque continent pour les années 1952 et 2007"
      ],
      "metadata": {
        "id": "1G7bMvtWrrAq"
      }
    },
    {
      "cell_type": "code",
      "source": [
        "# df3=df.iloc[:,1:4]\n",
        "# df3=df3[(df3.year==1952) | (df3.year==2007)]\n",
        "df3=df[(df.year==1952)| (df.year==2007)].iloc[:,1:4]\n",
        "\n",
        "# df3=df3.groupby([\"continent\",\"year\"]).Population.sum()"
      ],
      "metadata": {
        "id": "P549VZzsns-b"
      },
      "execution_count": 72,
      "outputs": []
    },
    {
      "cell_type": "markdown",
      "source": [
        "10) Afficher sous forme de barres verticales (histogrammes) la population totale de chaque continent pour les année 1952 et 2007"
      ],
      "metadata": {
        "id": "rDGMAwtbh8YS"
      }
    },
    {
      "cell_type": "code",
      "source": [
        "df5=df3.pivot_table(index=\"continent\",columns=\"year\",values=\"Population\")\n",
        "df5.plot.bar()"
      ],
      "metadata": {
        "id": "iX52FYe1iVlG",
        "colab": {
          "base_uri": "https://localhost:8080/",
          "height": 344
        },
        "outputId": "f196443f-02ed-4989-b559-f984898fab62"
      },
      "execution_count": 73,
      "outputs": [
        {
          "output_type": "execute_result",
          "data": {
            "text/plain": [
              "<matplotlib.axes._subplots.AxesSubplot at 0x7f69ad9f6910>"
            ]
          },
          "metadata": {},
          "execution_count": 73
        },
        {
          "output_type": "display_data",
          "data": {
            "text/plain": [
              "<Figure size 432x288 with 1 Axes>"
            ],
            "image/png": "[encoded data removed]"
          },
          "metadata": {
            "needs_background": "light"
          }
        }
      ]
    },
    {
      "cell_type": "markdown",
      "source": [
        "11) Afficher pour chaque continent, le pays qui la plus grande valeur de PIB en 2007"
      ],
      "metadata": {
        "id": "XgbIFjxwxjlb"
      }
    },
    {
      "cell_type": "code",
      "source": [
        "df6=df[df.year==2007]\n",
        "df7 = df6.groupby([\"continent\"])[\"PIB\"].max()\n",
        "df.merge(df7)"
      ],
      "metadata": {
        "id": "PpVwCRfnmzkD",
        "colab": {
          "base_uri": "https://localhost:8080/",
          "height": 206
        },
        "outputId": "2498c818-026f-4da8-9587-b2f60979cc3e"
      },
      "execution_count": 95,
      "outputs": [
        {
          "output_type": "execute_result",
          "data": {
            "text/plain": [
              "         country  year   Population continent     Age          PIB\n",
              "0      Australia  2007   20434176.0   Oceania  81.235  34435.36744\n",
              "1          Gabon  2007    1454867.0    Africa  56.735  13206.48452\n",
              "2         Kuwait  2007    2505559.0      Asia  77.588  47306.98978\n",
              "3         Norway  2007    4627926.0    Europe  80.196  49357.19017\n",
              "4  United States  2007  301139947.0  Americas  78.242  42951.65309"
            ],
            "text/html": [
              "\n",
              "  <div id=\"df-88f718d1-f440-4fb5-8cd4-2b8fda8d1d78\">\n",
              "    <div class=\"colab-df-container\">\n",
              "      <div>\n",
              "<style scoped>\n",
              "    .dataframe tbody tr th:only-of-type {\n",
              "        vertical-align: middle;\n",
              "    }\n",
              "\n",
              "    .dataframe tbody tr th {\n",
              "        vertical-align: top;\n",
              "    }\n",
              "\n",
              "    .dataframe thead th {\n",
              "        text-align: right;\n",
              "    }\n",
              "</style>\n",
              "<table border=\"1\" class=\"dataframe\">\n",
              "  <thead>\n",
              "    <tr style=\"text-align: right;\">\n",
              "      <th></th>\n",
              "      <th>country</th>\n",
              "      <th>year</th>\n",
              "      <th>Population</th>\n",
              "      <th>continent</th>\n",
              "      <th>Age</th>\n",
              "      <th>PIB</th>\n",
              "    </tr>\n",
              "  </thead>\n",
              "  <tbody>\n",
              "    <tr>\n",
              "      <th>0</th>\n",
              "      <td>Australia</td>\n",
              "      <td>2007</td>\n",
              "      <td>20434176.0</td>\n",
              "      <td>Oceania</td>\n",
              "      <td>81.235</td>\n",
              "      <td>34435.36744</td>\n",
              "    </tr>\n",
              "    <tr>\n",
              "      <th>1</th>\n",
              "      <td>Gabon</td>\n",
              "      <td>2007</td>\n",
              "      <td>1454867.0</td>\n",
              "      <td>Africa</td>\n",
              "      <td>56.735</td>\n",
              "      <td>13206.48452</td>\n",
              "    </tr>\n",
              "    <tr>\n",
              "      <th>2</th>\n",
              "      <td>Kuwait</td>\n",
              "      <td>2007</td>\n",
              "      <td>2505559.0</td>\n",
              "      <td>Asia</td>\n",
              "      <td>77.588</td>\n",
              "      <td>47306.98978</td>\n",
              "    </tr>\n",
              "    <tr>\n",
              "      <th>3</th>\n",
              "      <td>Norway</td>\n",
              "      <td>2007</td>\n",
              "      <td>4627926.0</td>\n",
              "      <td>Europe</td>\n",
              "      <td>80.196</td>\n",
              "      <td>49357.19017</td>\n",
              "    </tr>\n",
              "    <tr>\n",
              "      <th>4</th>\n",
              "      <td>United States</td>\n",
              "      <td>2007</td>\n",
              "      <td>301139947.0</td>\n",
              "      <td>Americas</td>\n",
              "      <td>78.242</td>\n",
              "      <td>42951.65309</td>\n",
              "    </tr>\n",
              "  </tbody>\n",
              "</table>\n",
              "</div>\n",
              "      <button class=\"colab-df-convert\" onclick=\"convertToInteractive('df-88f718d1-f440-4fb5-8cd4-2b8fda8d1d78')\"\n",
              "              title=\"Convert this dataframe to an interactive table.\"\n",
              "              style=\"display:none;\">\n",
              "        \n",
              "  <svg xmlns=\"http://www.w3.org/2000/svg\" height=\"24px\"viewBox=\"0 0 24 24\"\n",
              "       width=\"24px\">\n",
              "    <path d=\"M0 0h24v24H0V0z\" fill=\"none\"/>\n",
              "    <path d=\"M18.56 5.44l.94 2.06.94-2.06 2.06-.94-2.06-.94-.94-2.06-.94 2.06-2.06.94zm-11 1L8.5 8.5l.94-2.06 2.06-.94-2.06-.94L8.5 2.5l-.94 2.06-2.06.94zm10 10l.94 2.06.94-2.06 2.06-.94-2.06-.94-.94-2.06-.94 2.06-2.06.94z\"/><path d=\"M17.41 7.96l-1.37-1.37c-.4-.4-.92-.59-1.43-.59-.52 0-1.04.2-1.43.59L10.3 9.45l-7.72 7.72c-.78.78-.78 2.05 0 2.83L4 21.41c.39.39.9.59 1.41.59.51 0 1.02-.2 1.41-.59l7.78-7.78 2.81-2.81c.8-.78.8-2.07 0-2.86zM5.41 20L4 18.59l7.72-7.72 1.47 1.35L5.41 20z\"/>\n",
              "  </svg>\n",
              "      </button>\n",
              "      \n",
              "  <style>\n",
              "    .colab-df-container {\n",
              "      display:flex;\n",
              "      flex-wrap:wrap;\n",
              "      gap: 12px;\n",
              "    }\n",
              "\n",
              "    .colab-df-convert {\n",
              "      background-color: #E8F0FE;\n",
              "      border: none;\n",
              "      border-radius: 50%;\n",
              "      cursor: pointer;\n",
              "      display: none;\n",
              "      fill: #1967D2;\n",
              "      height: 32px;\n",
              "      padding: 0 0 0 0;\n",
              "      width: 32px;\n",
              "    }\n",
              "\n",
              "    .colab-df-convert:hover {\n",
              "      background-color: #E2EBFA;\n",
              "      box-shadow: 0px 1px 2px rgba(60, 64, 67, 0.3), 0px 1px 3px 1px rgba(60, 64, 67, 0.15);\n",
              "      fill: #174EA6;\n",
              "    }\n",
              "\n",
              "    [theme=dark] .colab-df-convert {\n",
              "      background-color: #3B4455;\n",
              "      fill: #D2E3FC;\n",
              "    }\n",
              "\n",
              "    [theme=dark] .colab-df-convert:hover {\n",
              "      background-color: #434B5C;\n",
              "      box-shadow: 0px 1px 3px 1px rgba(0, 0, 0, 0.15);\n",
              "      filter: drop-shadow(0px 1px 2px rgba(0, 0, 0, 0.3));\n",
              "      fill: #FFFFFF;\n",
              "    }\n",
              "  </style>\n",
              "\n",
              "      <script>\n",
              "        const buttonEl =\n",
              "          document.querySelector('#df-88f718d1-f440-4fb5-8cd4-2b8fda8d1d78 button.colab-df-convert');\n",
              "        buttonEl.style.display =\n",
              "          google.colab.kernel.accessAllowed ? 'block' : 'none';\n",
              "\n",
              "        async function convertToInteractive(key) {\n",
              "          const element = document.querySelector('#df-88f718d1-f440-4fb5-8cd4-2b8fda8d1d78');\n",
              "          const dataTable =\n",
              "            await google.colab.kernel.invokeFunction('convertToInteractive',\n",
              "                                                     [key], {});\n",
              "          if (!dataTable) return;\n",
              "\n",
              "          const docLinkHtml = 'Like what you see? Visit the ' +\n",
              "            '<a target=\"_blank\" href=https://colab.research.google.com/notebooks/data_table.ipynb>data table notebook</a>'\n",
              "            + ' to learn more about interactive tables.';\n",
              "          element.innerHTML = '';\n",
              "          dataTable['output_type'] = 'display_data';\n",
              "          await google.colab.output.renderOutput(dataTable, element);\n",
              "          const docLink = document.createElement('div');\n",
              "          docLink.innerHTML = docLinkHtml;\n",
              "          element.appendChild(docLink);\n",
              "        }\n",
              "      </script>\n",
              "    </div>\n",
              "  </div>\n",
              "  "
            ]
          },
          "metadata": {},
          "execution_count": 95
        }
      ]
    }
  ]
}